{
 "cells": [
  {
   "cell_type": "markdown",
   "id": "0ff16ae5-3ef0-4b04-ac2e-53874d605198",
   "metadata": {},
   "source": [
    "# Neural Network for generating italian Names\n",
    "\n"
   ]
  },
  {
   "cell_type": "code",
   "execution_count": 3,
   "id": "0d639a97-9ec3-4ba4-86a8-f9209de22b5c",
   "metadata": {},
   "outputs": [],
   "source": [
    "import random\n",
    "import matplotlib.pyplot as plt\n",
    "import re\n",
    "import torch\n",
    "import torch.nn.functional as F\n",
    "%matplotlib inline"
   ]
  },
  {
   "cell_type": "code",
   "execution_count": 4,
   "id": "e877e5f4-1217-4a13-961d-92f4ce9bad19",
   "metadata": {},
   "outputs": [],
   "source": [
    "#Importing the data\n",
    "row_names = open(\"nomi_italiani.txt\",\"r\").read().splitlines()\n",
    "for _ in range(random.randint(1,10)):\n",
    "    random.shuffle(row_names)\n",
    "\n"
   ]
  },
  {
   "cell_type": "code",
   "execution_count": 5,
   "id": "f244cf3e-6306-4c5b-8f28-981d9c2301be",
   "metadata": {},
   "outputs": [],
   "source": [
    "#Cleaning the data\n",
    "def remove_special_characters(name):\n",
    "    return re.sub(r'[^a-zA-Z0-9]', '', name)\n",
    "\n",
    "names = [remove_special_characters(name) for name in row_names]\n"
   ]
  },
  {
   "cell_type": "code",
   "execution_count": 6,
   "id": "8e910950-3473-474e-afad-20400cef33ed",
   "metadata": {},
   "outputs": [],
   "source": [
    "#Building the dictionary\n",
    "characters = sorted(list(set(''.join(names))))\n",
    "\n",
    "stoi = {ch : index+1 for index, ch in enumerate (characters)}\n",
    "stoi['.'] = 0\n",
    "itos = {index : ch for ch, index in stoi.items()}"
   ]
  },
  {
   "cell_type": "code",
   "execution_count": 7,
   "id": "3b42bceb-f2d7-4675-b571-7a384d5c49a2",
   "metadata": {},
   "outputs": [
    {
     "name": "stdout",
     "output_type": "stream",
     "text": [
      "torch.Size([58871, 3]) torch.Size([58871])\n",
      "torch.Size([7422, 3]) torch.Size([7422])\n",
      "torch.Size([7315, 3]) torch.Size([7315])\n"
     ]
    }
   ],
   "source": [
    "# Creating the training set(80%), dev set(10%) and test set(10%)\n",
    "\n",
    "chunk_size = 3\n",
    "\n",
    "def create_dataset(names):\n",
    "    X, Y = [], []\n",
    "\n",
    "    for name in names : \n",
    "        context = [0] * chunk_size\n",
    "\n",
    "        for ch in name + \".\" : \n",
    "            ix = stoi[ch]\n",
    "            X.append(context)\n",
    "            Y.append(ix)\n",
    "            #print(''.join(itos[i] for i in context), '--->', itos[ix])\n",
    "            context = context[1:] + [ix]\n",
    "            \n",
    "\n",
    "    X = torch.tensor(X)\n",
    "    Y = torch.tensor(Y)\n",
    "    print(X.shape, Y.shape)\n",
    "    return X, Y            \n",
    "\n",
    "#Splitting the list in training set, dev set, test set\n",
    "index1 = int(0.8 * len(names))\n",
    "index2 = int(0.9 * len(names))\n",
    "\n",
    "Xtr,Ytr = create_dataset(names[:index1])\n",
    "Xdev, Ydev = create_dataset(names[index1:index2])\n",
    "Xtst, Ytst = create_dataset(names[index2:])\n",
    "        \n",
    "\n",
    "    \n"
   ]
  },
  {
   "cell_type": "code",
   "execution_count": 9,
   "id": "8f393e25-e718-40d0-99b7-093b48ff4214",
   "metadata": {},
   "outputs": [],
   "source": [
    "#Hyperparameter of the net for fine-tuning\n",
    "dimension_embedding = 10\n",
    "input_fl = dimension_embedding * chunk_size\n",
    "Nfl = 200\n",
    "iteration = 20000"
   ]
  },
  {
   "cell_type": "code",
   "execution_count": 10,
   "id": "4d19dfcb-6170-4a6e-a806-0dc9e0399802",
   "metadata": {},
   "outputs": [
    {
     "name": "stdout",
     "output_type": "stream",
     "text": [
      "Number of parameters: 11897\n"
     ]
    }
   ],
   "source": [
    "#Creatin the parameters of the Net\n",
    "\n",
    "#Look up matrix(embedding matrix)\n",
    "C = torch.randn(27,dimension_embedding)\n",
    "#First Layer\n",
    "W1 = torch.randn(input_fl,Nfl)\n",
    "b1 = torch.randn(Nfl)\n",
    "#Second Layer\n",
    "W2 = torch.randn(Nfl,27)\n",
    "b2 = torch.randn(27)\n",
    "\n",
    "parameters = [C,W1,b1,W2,b2]\n",
    "\n",
    "for par in parameters :\n",
    "    par.requires_grad = True\n",
    "\n",
    "\n",
    "total_params = sum(p.numel() for p in parameters)\n",
    "\n",
    "print(f\"Number of parameters: {total_params}\")\n",
    "lossi = []\n",
    "stepi = []"
   ]
  },
  {
   "cell_type": "code",
   "execution_count": 44,
   "id": "018f9bec-7f5b-42eb-9624-3b5951b80f70",
   "metadata": {},
   "outputs": [
    {
     "name": "stdout",
     "output_type": "stream",
     "text": [
      "1.81325101852417\n"
     ]
    }
   ],
   "source": [
    "#Training the net one the training set using minibatch for better performance\n",
    "for i in range(iteration):\n",
    "    #Mini-batch\n",
    "    ix = torch.randint(0, Xtr.shape[0], (32,))\n",
    "\n",
    "    #Forward pass\n",
    "\n",
    "    emb = C[Xtr[ix]]\n",
    "    h = torch.tanh(emb.view(-1,input_fl) @ W1 + b1)\n",
    "    logits = h @ W2 + b2\n",
    "    loss = F.cross_entropy(logits, Ytr[ix])\n",
    "\n",
    "    #Backward pass\n",
    "    for p in parameters:\n",
    "        p.grad = None\n",
    "    loss.backward()\n",
    "\n",
    "    #Adjusting the values\n",
    "    lr = 0.1\n",
    "  \n",
    "    for p in parameters : \n",
    "        p.data += - lr * p.grad\n",
    "    \n",
    "    \n",
    "    lossi.append(loss.log10().item())\n",
    "print(loss.item())\n",
    "    \n",
    "    "
   ]
  },
  {
   "cell_type": "code",
   "execution_count": 24,
   "id": "fbc4790d-943b-47d1-a92e-9af5e689f7eb",
   "metadata": {},
   "outputs": [
    {
     "data": {
      "text/plain": [
       "[<matplotlib.lines.Line2D at 0x113e96780>]"
      ]
     },
     "execution_count": 24,
     "metadata": {},
     "output_type": "execute_result"
    },
    {
     "data": {
      "image/png": "[encoded data removed]",
      "text/plain": [
       "<Figure size 640x480 with 1 Axes>"
      ]
     },
     "metadata": {},
     "output_type": "display_data"
    }
   ],
   "source": [
    "plt.plot(lossi)"
   ]
  },
  {
   "cell_type": "code",
   "execution_count": 25,
   "id": "ff53f68a-e0c1-4a67-9393-644909bbb641",
   "metadata": {},
   "outputs": [
    {
     "data": {
      "text/plain": [
       "1.8365885019302368"
      ]
     },
     "execution_count": 25,
     "metadata": {},
     "output_type": "execute_result"
    }
   ],
   "source": [
    "#Evaluatin the loss on the dev set \n",
    "emb = C[Xdev]  # (32, 3, 2)\n",
    "h = torch.tanh(emb.view(-1, input_fl) @ W1 + b1)\n",
    "logits = h @ W2 + b2\n",
    "loss = F.cross_entropy(logits, Ydev)\n",
    "loss.item()"
   ]
  },
  {
   "cell_type": "code",
   "execution_count": 30,
   "id": "37eedaf5-8f69-4a70-a617-daf70ce37c69",
   "metadata": {},
   "outputs": [
    {
     "data": {
      "image/png": "[encoded data removed]",
      "text/plain": [
       "<Figure size 800x800 with 1 Axes>"
      ]
     },
     "metadata": {},
     "output_type": "display_data"
    }
   ],
   "source": [
    "# visualize dimensions 0 and 1 of the embedding matrix C for all characters\n",
    "plt.figure(figsize=(8,8))\n",
    "plt.scatter(C[:,0].data, C[:,1].data, s=200)\n",
    "for i in range(C.shape[0]):\n",
    "    plt.text(C[i,0].item(), C[i,1].item(), itos[i], ha=\"center\", va=\"center\", color='white')\n",
    "plt.grid('minor')"
   ]
  },
  {
   "cell_type": "code",
   "execution_count": 31,
   "id": "124d53c5-2803-4790-82fd-8548d12bf1c6",
   "metadata": {},
   "outputs": [
    {
     "name": "stdout",
     "output_type": "stream",
     "text": [
      "rescando.\n",
      "fedetto.\n",
      "uberto.\n",
      "romantenico.\n",
      "ide.\n",
      "divarrico.\n",
      "battina.\n",
      "basilde.\n",
      "addi.\n",
      "nolliadamina.\n",
      "cusuzuetta.\n",
      "romandro.\n",
      "fanma.\n",
      "celeuripio.\n",
      "rauladila.\n",
      "matta.\n",
      "mitto.\n",
      "retenocondo.\n",
      "giulia.\n",
      "clita.\n"
     ]
    }
   ],
   "source": [
    "\n",
    "for _ in range(20):\n",
    "    \n",
    "    out = []\n",
    "    context = [0] * chunk_size # initialize with all ...\n",
    "    while True:\n",
    "      emb = C[torch.tensor([context])] # (1,block_size,d)\n",
    "      h = torch.tanh(emb.view(1, -1) @ W1 + b1)\n",
    "      logits = h @ W2 + b2\n",
    "      probs = F.softmax(logits, dim=1)\n",
    "      ix = torch.multinomial(probs, num_samples=1).item()\n",
    "      context = context[1:] + [ix]\n",
    "      out.append(ix)\n",
    "      if ix == 0:\n",
    "        break\n",
    "    \n",
    "    print(''.join(itos[i] for i in out))"
   ]
  }
 ],
 "metadata": {
  "kernelspec": {
   "display_name": "Python 3 (ipykernel)",
   "language": "python",
   "name": "python3"
  },
  "language_info": {
   "codemirror_mode": {
    "name": "ipython",
    "version": 3
   },
   "file_extension": ".py",
   "mimetype": "text/x-python",
   "name": "python",
   "nbconvert_exporter": "python",
   "pygments_lexer": "ipython3",
   "version": "3.12.0"
  },
  "widgets": {
   "application/vnd.jupyter.widget-state+json": {
    "state": {},
    "version_major": 2,
    "version_minor": 0
   }
  }
 },
 "nbformat": 4,
 "nbformat_minor": 5
}
